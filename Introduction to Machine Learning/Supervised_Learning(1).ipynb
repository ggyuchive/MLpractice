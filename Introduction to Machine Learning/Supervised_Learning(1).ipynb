{
  "nbformat": 4,
  "nbformat_minor": 0,
  "metadata": {
    "colab": {
      "name": "Supervised Learning(1).ipynb",
      "provenance": [],
      "collapsed_sections": [],
      "authorship_tag": "ABX9TyMTAX8Gtq8Cvw0gs/4IWxCl",
      "include_colab_link": true
    },
    "kernelspec": {
      "name": "python3",
      "display_name": "Python 3"
    },
    "language_info": {
      "name": "python"
    }
  },
  "cells": [
    {
      "cell_type": "markdown",
      "metadata": {
        "id": "view-in-github",
        "colab_type": "text"
      },
      "source": [
        "<a href=\"https://colab.research.google.com/github/ggyuchive/MLpractice/blob/main/Introduction%20to%20Machine%20Learning/Supervised_Learning(1).ipynb\" target=\"_parent\"><img src=\"https://colab.research.google.com/assets/colab-badge.svg\" alt=\"Open In Colab\"/></a>"
      ]
    },
    {
      "cell_type": "markdown",
      "source": [
        "###지도학습  \n",
        "**분류 (Classification)** : 가능성 있는 class label 중 하나를 예측  \n",
        "**회귀 (Regression)** : 연속적인 실수를 예측"
      ],
      "metadata": {
        "id": "70k8b-MmRP9o"
      }
    },
    {
      "cell_type": "code",
      "execution_count": 18,
      "metadata": {
        "id": "JVL-5Ve0Q2_W"
      },
      "outputs": [],
      "source": [
        "# import Numpy, Pandas, Matplotlib, Sklearn\n",
        "import numpy as np\n",
        "import pandas as pd\n",
        "import scipy\n",
        "import matplotlib.pyplot as plt\n",
        "import sklearn"
      ]
    },
    {
      "cell_type": "markdown",
      "source": [
        "## 이진 분류 문제 (Binary Classification)"
      ],
      "metadata": {
        "id": "YBc5HZ9QU5JF"
      }
    },
    {
      "cell_type": "markdown",
      "source": [
        "### Note 1.\n",
        "**load_breast_cancer** 데이터 이용  \n",
        "특성 30개 (569*30)  \n",
        "malignant: 양성 / benign: 음성"
      ],
      "metadata": {
        "id": "PlXz82XpVpch"
      }
    },
    {
      "cell_type": "code",
      "source": [
        "from sklearn.datasets import load_breast_cancer\n",
        "cancer = load_breast_cancer()\n",
        "print(cancer.keys())\n",
        "print(cancer.feature_names)\n",
        "print(cancer.target_names)\n",
        "print(cancer.data.shape, cancer.target.shape)"
      ],
      "metadata": {
        "colab": {
          "base_uri": "https://localhost:8080/"
        },
        "id": "yAsXBcHOSzzv",
        "outputId": "534cdc4a-24d7-4795-df05-5c6981beedb2"
      },
      "execution_count": 19,
      "outputs": [
        {
          "output_type": "stream",
          "name": "stdout",
          "text": [
            "dict_keys(['data', 'target', 'frame', 'target_names', 'DESCR', 'feature_names', 'filename', 'data_module'])\n",
            "['mean radius' 'mean texture' 'mean perimeter' 'mean area'\n",
            " 'mean smoothness' 'mean compactness' 'mean concavity'\n",
            " 'mean concave points' 'mean symmetry' 'mean fractal dimension'\n",
            " 'radius error' 'texture error' 'perimeter error' 'area error'\n",
            " 'smoothness error' 'compactness error' 'concavity error'\n",
            " 'concave points error' 'symmetry error' 'fractal dimension error'\n",
            " 'worst radius' 'worst texture' 'worst perimeter' 'worst area'\n",
            " 'worst smoothness' 'worst compactness' 'worst concavity'\n",
            " 'worst concave points' 'worst symmetry' 'worst fractal dimension']\n",
            "['malignant' 'benign']\n",
            "(569, 30) (569,)\n"
          ]
        }
      ]
    },
    {
      "cell_type": "code",
      "source": [
        "{n: v for n, v in zip(cancer.target_names, np.bincount(cancer.target))}"
      ],
      "metadata": {
        "colab": {
          "base_uri": "https://localhost:8080/"
        },
        "id": "fsfCsOb8TB8F",
        "outputId": "58192788-0ba9-42e3-ee21-66fa4a1c4d1b"
      },
      "execution_count": 20,
      "outputs": [
        {
          "output_type": "execute_result",
          "data": {
            "text/plain": [
              "{'benign': 357, 'malignant': 212}"
            ]
          },
          "metadata": {},
          "execution_count": 20
        }
      ]
    },
    {
      "cell_type": "code",
      "source": [
        "from sklearn.model_selection import train_test_split\n",
        "X_train, X_test, y_train, y_test = train_test_split (\n",
        "    cancer.data, cancer.target, random_state = 0\n",
        ")\n",
        "print(X_train.shape, X_test.shape, y_train.shape, y_test.shape)"
      ],
      "metadata": {
        "colab": {
          "base_uri": "https://localhost:8080/"
        },
        "id": "2CLDxvKgWSA3",
        "outputId": "653794d0-a97d-43b9-92c0-dad49a5a4c25"
      },
      "execution_count": 21,
      "outputs": [
        {
          "output_type": "stream",
          "name": "stdout",
          "text": [
            "(426, 30) (143, 30) (426,) (143,)\n"
          ]
        }
      ]
    },
    {
      "cell_type": "code",
      "source": [
        "cancer_df = pd.DataFrame(X_train, columns = cancer.feature_names)"
      ],
      "metadata": {
        "id": "mbcpjZdLXeMc"
      },
      "execution_count": 22,
      "outputs": []
    },
    {
      "cell_type": "code",
      "source": [
        "from sklearn.neighbors import KNeighborsClassifier\n",
        "knn = KNeighborsClassifier(n_neighbors=3)\n",
        "knn.fit(X_train, y_train)\n",
        "knn.score(X_test, y_test)"
      ],
      "metadata": {
        "colab": {
          "base_uri": "https://localhost:8080/"
        },
        "id": "kvU_AbdxXrM9",
        "outputId": "687f7973-8c76-4044-f27f-f4743200c5e2"
      },
      "execution_count": 23,
      "outputs": [
        {
          "output_type": "execute_result",
          "data": {
            "text/plain": [
              "0.9230769230769231"
            ]
          },
          "metadata": {},
          "execution_count": 23
        }
      ]
    },
    {
      "cell_type": "markdown",
      "source": [
        "### Note 2.\n",
        "Neighbors 수를 다르게 하여 knn 모델 생성 및 정확도 계산  \n",
        "Neighbors 변화에 따른 정확도 그래프 표현  \n",
        "Neighbor 수가 **적으면** : **과대적합** (train accuracy >> test accuracy)  \n",
        "Neighbor 수가 **많으면** : **과소적합** (train accuracy == test accuracy)  \n",
        "최적점은 n_neighbors=7로 판단 가능"
      ],
      "metadata": {
        "id": "r6l2fvINanU1"
      }
    },
    {
      "cell_type": "code",
      "source": [
        "train_accuracy = []\n",
        "test_accuracy = []\n",
        "\n",
        "maxn = 20\n",
        "for n in range(1,maxn):\n",
        "  knn = KNeighborsClassifier(n_neighbors=n)\n",
        "  knn.fit(X_train, y_train)\n",
        "  train_accuracy.append(knn.score(X_train, y_train))\n",
        "  test_accuracy.append(knn.score(X_test, y_test))"
      ],
      "metadata": {
        "id": "KaT_hUBLZ648"
      },
      "execution_count": 24,
      "outputs": []
    },
    {
      "cell_type": "code",
      "source": [
        "plt.plot(range(1,maxn), train_accuracy, label=\"train accuracy\")\n",
        "plt.plot(range(1,maxn), test_accuracy, label=\"test accuracy\")\n",
        "plt.ylabel(\"accuracy\") \n",
        "plt.xlabel(\"n_neighbors\")\n",
        "plt.legend()"
      ],
      "metadata": {
        "colab": {
          "base_uri": "https://localhost:8080/",
          "height": 297
        },
        "id": "yM96tjVgbvMQ",
        "outputId": "da8de702-899d-4047-9583-960ff01fcccb"
      },
      "execution_count": 25,
      "outputs": [
        {
          "output_type": "execute_result",
          "data": {
            "text/plain": [
              "<matplotlib.legend.Legend at 0x7fa084b6be50>"
            ]
          },
          "metadata": {},
          "execution_count": 25
        },
        {
          "output_type": "display_data",
          "data": {
            "text/plain": [
              "<Figure size 432x288 with 1 Axes>"
            ],
            "image/png": "[encoded data removed]"
          },
          "metadata": {
            "needs_background": "light"
          }
        }
      ]
    },
    {
      "cell_type": "markdown",
      "source": [
        "## 회귀 문제 (Regression)"
      ],
      "metadata": {
        "id": "6XhXzArTrr70"
      }
    },
    {
      "cell_type": "markdown",
      "source": [
        "### Note 1.\n",
        "**load_diabetes** 데이터 이용  \n",
        "특성 10개(442*10)  \n",
        "예측값은 실수"
      ],
      "metadata": {
        "id": "FUlv8_Q3utry"
      }
    },
    {
      "cell_type": "code",
      "source": [
        "from sklearn.datasets import load_diabetes\n",
        "diabetes = load_diabetes()\n",
        "print(diabetes.keys())\n",
        "print(diabetes.data.shape, diabetes.target.shape)\n",
        "print(diabetes.feature_names)\n",
        "diabetes.target[:10]"
      ],
      "metadata": {
        "colab": {
          "base_uri": "https://localhost:8080/"
        },
        "id": "jaf4uQceeuos",
        "outputId": "a545adec-2345-486b-c60f-05e7a415c8d4"
      },
      "execution_count": 26,
      "outputs": [
        {
          "output_type": "stream",
          "name": "stdout",
          "text": [
            "dict_keys(['data', 'target', 'frame', 'DESCR', 'feature_names', 'data_filename', 'target_filename', 'data_module'])\n",
            "(442, 10) (442,)\n",
            "['age', 'sex', 'bmi', 'bp', 's1', 's2', 's3', 's4', 's5', 's6']\n"
          ]
        },
        {
          "output_type": "execute_result",
          "data": {
            "text/plain": [
              "array([151.,  75., 141., 206., 135.,  97., 138.,  63., 110., 310.])"
            ]
          },
          "metadata": {},
          "execution_count": 26
        }
      ]
    },
    {
      "cell_type": "code",
      "source": [
        "from sklearn.neighbors import KNeighborsRegressor\n",
        "\n",
        "X_train, X_test, y_train, y_test = train_test_split(\n",
        "    diabetes.data, diabetes.target, random_state = 0)\n",
        "print(X_train.shape, X_test.shape, y_train.shape, y_test.shape)"
      ],
      "metadata": {
        "colab": {
          "base_uri": "https://localhost:8080/"
        },
        "id": "0GPff8fdvFCH",
        "outputId": "7784fce2-499c-4a8c-bbda-ecb8fa849ca1"
      },
      "execution_count": 27,
      "outputs": [
        {
          "output_type": "stream",
          "name": "stdout",
          "text": [
            "(331, 10) (111, 10) (331,) (111,)\n"
          ]
        }
      ]
    },
    {
      "cell_type": "code",
      "source": [
        "diabetes_df = pd.DataFrame(diabetes.data, columns=diabetes.feature_names)\n",
        "diabetes_df.head()"
      ],
      "metadata": {
        "colab": {
          "base_uri": "https://localhost:8080/",
          "height": 197
        },
        "id": "ibVbnYNNy_g1",
        "outputId": "44de4d89-0669-46e0-aea4-c15c11449d7e"
      },
      "execution_count": 28,
      "outputs": [
        {
          "output_type": "execute_result",
          "data": {
            "text/plain": [
              "        age       sex       bmi        bp        s1        s2        s3  \\\n",
              "0  0.038076  0.050680  0.061696  0.021872 -0.044223 -0.034821 -0.043401   \n",
              "1 -0.001882 -0.044642 -0.051474 -0.026328 -0.008449 -0.019163  0.074412   \n",
              "2  0.085299  0.050680  0.044451 -0.005671 -0.045599 -0.034194 -0.032356   \n",
              "3 -0.089063 -0.044642 -0.011595 -0.036656  0.012191  0.024991 -0.036038   \n",
              "4  0.005383 -0.044642 -0.036385  0.021872  0.003935  0.015596  0.008142   \n",
              "\n",
              "         s4        s5        s6  \n",
              "0 -0.002592  0.019908 -0.017646  \n",
              "1 -0.039493 -0.068330 -0.092204  \n",
              "2 -0.002592  0.002864 -0.025930  \n",
              "3  0.034309  0.022692 -0.009362  \n",
              "4 -0.002592 -0.031991 -0.046641  "
            ],
            "text/html": [
              "\n",
              "  <div id=\"df-f6388eca-7b6b-4c37-b691-75f6407ee5a7\">\n",
              "    <div class=\"colab-df-container\">\n",
              "      <div>\n",
              "<style scoped>\n",
              "    .dataframe tbody tr th:only-of-type {\n",
              "        vertical-align: middle;\n",
              "    }\n",
              "\n",
              "    .dataframe tbody tr th {\n",
              "        vertical-align: top;\n",
              "    }\n",
              "\n",
              "    .dataframe thead th {\n",
              "        text-align: right;\n",
              "    }\n",
              "</style>\n",
              "<table border=\"1\" class=\"dataframe\">\n",
              "  <thead>\n",
              "    <tr style=\"text-align: right;\">\n",
              "      <th></th>\n",
              "      <th>age</th>\n",
              "      <th>sex</th>\n",
              "      <th>bmi</th>\n",
              "      <th>bp</th>\n",
              "      <th>s1</th>\n",
              "      <th>s2</th>\n",
              "      <th>s3</th>\n",
              "      <th>s4</th>\n",
              "      <th>s5</th>\n",
              "      <th>s6</th>\n",
              "    </tr>\n",
              "  </thead>\n",
              "  <tbody>\n",
              "    <tr>\n",
              "      <th>0</th>\n",
              "      <td>0.038076</td>\n",
              "      <td>0.050680</td>\n",
              "      <td>0.061696</td>\n",
              "      <td>0.021872</td>\n",
              "      <td>-0.044223</td>\n",
              "      <td>-0.034821</td>\n",
              "      <td>-0.043401</td>\n",
              "      <td>-0.002592</td>\n",
              "      <td>0.019908</td>\n",
              "      <td>-0.017646</td>\n",
              "    </tr>\n",
              "    <tr>\n",
              "      <th>1</th>\n",
              "      <td>-0.001882</td>\n",
              "      <td>-0.044642</td>\n",
              "      <td>-0.051474</td>\n",
              "      <td>-0.026328</td>\n",
              "      <td>-0.008449</td>\n",
              "      <td>-0.019163</td>\n",
              "      <td>0.074412</td>\n",
              "      <td>-0.039493</td>\n",
              "      <td>-0.068330</td>\n",
              "      <td>-0.092204</td>\n",
              "    </tr>\n",
              "    <tr>\n",
              "      <th>2</th>\n",
              "      <td>0.085299</td>\n",
              "      <td>0.050680</td>\n",
              "      <td>0.044451</td>\n",
              "      <td>-0.005671</td>\n",
              "      <td>-0.045599</td>\n",
              "      <td>-0.034194</td>\n",
              "      <td>-0.032356</td>\n",
              "      <td>-0.002592</td>\n",
              "      <td>0.002864</td>\n",
              "      <td>-0.025930</td>\n",
              "    </tr>\n",
              "    <tr>\n",
              "      <th>3</th>\n",
              "      <td>-0.089063</td>\n",
              "      <td>-0.044642</td>\n",
              "      <td>-0.011595</td>\n",
              "      <td>-0.036656</td>\n",
              "      <td>0.012191</td>\n",
              "      <td>0.024991</td>\n",
              "      <td>-0.036038</td>\n",
              "      <td>0.034309</td>\n",
              "      <td>0.022692</td>\n",
              "      <td>-0.009362</td>\n",
              "    </tr>\n",
              "    <tr>\n",
              "      <th>4</th>\n",
              "      <td>0.005383</td>\n",
              "      <td>-0.044642</td>\n",
              "      <td>-0.036385</td>\n",
              "      <td>0.021872</td>\n",
              "      <td>0.003935</td>\n",
              "      <td>0.015596</td>\n",
              "      <td>0.008142</td>\n",
              "      <td>-0.002592</td>\n",
              "      <td>-0.031991</td>\n",
              "      <td>-0.046641</td>\n",
              "    </tr>\n",
              "  </tbody>\n",
              "</table>\n",
              "</div>\n",
              "      <button class=\"colab-df-convert\" onclick=\"convertToInteractive('df-f6388eca-7b6b-4c37-b691-75f6407ee5a7')\"\n",
              "              title=\"Convert this dataframe to an interactive table.\"\n",
              "              style=\"display:none;\">\n",
              "        \n",
              "  <svg xmlns=\"http://www.w3.org/2000/svg\" height=\"24px\"viewBox=\"0 0 24 24\"\n",
              "       width=\"24px\">\n",
              "    <path d=\"M0 0h24v24H0V0z\" fill=\"none\"/>\n",
              "    <path d=\"M18.56 5.44l.94 2.06.94-2.06 2.06-.94-2.06-.94-.94-2.06-.94 2.06-2.06.94zm-11 1L8.5 8.5l.94-2.06 2.06-.94-2.06-.94L8.5 2.5l-.94 2.06-2.06.94zm10 10l.94 2.06.94-2.06 2.06-.94-2.06-.94-.94-2.06-.94 2.06-2.06.94z\"/><path d=\"M17.41 7.96l-1.37-1.37c-.4-.4-.92-.59-1.43-.59-.52 0-1.04.2-1.43.59L10.3 9.45l-7.72 7.72c-.78.78-.78 2.05 0 2.83L4 21.41c.39.39.9.59 1.41.59.51 0 1.02-.2 1.41-.59l7.78-7.78 2.81-2.81c.8-.78.8-2.07 0-2.86zM5.41 20L4 18.59l7.72-7.72 1.47 1.35L5.41 20z\"/>\n",
              "  </svg>\n",
              "      </button>\n",
              "      \n",
              "  <style>\n",
              "    .colab-df-container {\n",
              "      display:flex;\n",
              "      flex-wrap:wrap;\n",
              "      gap: 12px;\n",
              "    }\n",
              "\n",
              "    .colab-df-convert {\n",
              "      background-color: #E8F0FE;\n",
              "      border: none;\n",
              "      border-radius: 50%;\n",
              "      cursor: pointer;\n",
              "      display: none;\n",
              "      fill: #1967D2;\n",
              "      height: 32px;\n",
              "      padding: 0 0 0 0;\n",
              "      width: 32px;\n",
              "    }\n",
              "\n",
              "    .colab-df-convert:hover {\n",
              "      background-color: #E2EBFA;\n",
              "      box-shadow: 0px 1px 2px rgba(60, 64, 67, 0.3), 0px 1px 3px 1px rgba(60, 64, 67, 0.15);\n",
              "      fill: #174EA6;\n",
              "    }\n",
              "\n",
              "    [theme=dark] .colab-df-convert {\n",
              "      background-color: #3B4455;\n",
              "      fill: #D2E3FC;\n",
              "    }\n",
              "\n",
              "    [theme=dark] .colab-df-convert:hover {\n",
              "      background-color: #434B5C;\n",
              "      box-shadow: 0px 1px 3px 1px rgba(0, 0, 0, 0.15);\n",
              "      filter: drop-shadow(0px 1px 2px rgba(0, 0, 0, 0.3));\n",
              "      fill: #FFFFFF;\n",
              "    }\n",
              "  </style>\n",
              "\n",
              "      <script>\n",
              "        const buttonEl =\n",
              "          document.querySelector('#df-f6388eca-7b6b-4c37-b691-75f6407ee5a7 button.colab-df-convert');\n",
              "        buttonEl.style.display =\n",
              "          google.colab.kernel.accessAllowed ? 'block' : 'none';\n",
              "\n",
              "        async function convertToInteractive(key) {\n",
              "          const element = document.querySelector('#df-f6388eca-7b6b-4c37-b691-75f6407ee5a7');\n",
              "          const dataTable =\n",
              "            await google.colab.kernel.invokeFunction('convertToInteractive',\n",
              "                                                     [key], {});\n",
              "          if (!dataTable) return;\n",
              "\n",
              "          const docLinkHtml = 'Like what you see? Visit the ' +\n",
              "            '<a target=\"_blank\" href=https://colab.research.google.com/notebooks/data_table.ipynb>data table notebook</a>'\n",
              "            + ' to learn more about interactive tables.';\n",
              "          element.innerHTML = '';\n",
              "          dataTable['output_type'] = 'display_data';\n",
              "          await google.colab.output.renderOutput(dataTable, element);\n",
              "          const docLink = document.createElement('div');\n",
              "          docLink.innerHTML = docLinkHtml;\n",
              "          element.appendChild(docLink);\n",
              "        }\n",
              "      </script>\n",
              "    </div>\n",
              "  </div>\n",
              "  "
            ]
          },
          "metadata": {},
          "execution_count": 28
        }
      ]
    },
    {
      "cell_type": "markdown",
      "source": [
        "### Note 2.\n",
        "예측 결과가 굉장히 나쁨  \n",
        "회귀에서 socre은   \n",
        "$score = R^2 = 1- {{\\sum(y- 예측값)} \\over {\\sum(y- 평균)}} $  \n",
        "(음수일 수도 있음)  \n",
        "KNN에서 중요한 변수는 **거리 재는 법, 이웃의 수**  "
      ],
      "metadata": {
        "id": "j2tMAfpv_clN"
      }
    },
    {
      "cell_type": "code",
      "source": [
        "reg = KNeighborsRegressor(n_neighbors=5)\n",
        "reg.fit(X_train, y_train)\n",
        "print(reg.score(X_train, y_train), reg.score(X_test, y_test))"
      ],
      "metadata": {
        "colab": {
          "base_uri": "https://localhost:8080/"
        },
        "id": "H63uH87TyS2b",
        "outputId": "f95510bb-369c-4b6b-adea-9e23013e5fa9"
      },
      "execution_count": 29,
      "outputs": [
        {
          "output_type": "stream",
          "name": "stdout",
          "text": [
            "0.6238758317268587 0.18912404854026388\n"
          ]
        }
      ]
    },
    {
      "cell_type": "markdown",
      "source": [
        "### Note 3.\n",
        "회귀의 선형 모델  \n",
        "$ \\hat y = w[0] \\times x[0] + ... + b $  \n",
        "$x$는 특성, $w, b$는 모델이 학습하는 변수  \n",
        "\n",
        "**최소제곱법** (Ordinary Least Squares)  \n",
        "\n",
        "과대적합을 막기 위한 대안  \n",
        "**리지** 회귀 (Ridge)  -> L2 규제  \n",
        "$w[i]$가 0에 가깝도록 규제  \n",
        "\n",
        "**라쏘** 회귀 (Lasso)  -> L1 규제  \n",
        "$w[i]$가 0이 될 수 있음  (사용하는 특성을 고름)"
      ],
      "metadata": {
        "id": "0Fy9daM6BOvw"
      }
    },
    {
      "cell_type": "code",
      "source": [
        "from sklearn.linear_model import LinearRegression\n",
        "lrmodel = LinearRegression().fit(X_train, y_train)"
      ],
      "metadata": {
        "id": "ZM4sUGYJytIE"
      },
      "execution_count": 30,
      "outputs": []
    },
    {
      "cell_type": "code",
      "source": [
        "print(lrmodel.score(X_train, y_train), lrmodel.score(X_test, y_test))"
      ],
      "metadata": {
        "colab": {
          "base_uri": "https://localhost:8080/"
        },
        "id": "gaHwZLECChIQ",
        "outputId": "4e8bd6eb-aeff-48b3-ba05-a831dd4513e9"
      },
      "execution_count": 31,
      "outputs": [
        {
          "output_type": "stream",
          "name": "stdout",
          "text": [
            "0.555437148935302 0.35940090989715534\n"
          ]
        }
      ]
    },
    {
      "cell_type": "code",
      "source": [
        "from sklearn.linear_model import Ridge\n",
        "ridgemodel = Ridge().fit(X_train, y_train)"
      ],
      "metadata": {
        "id": "RZS0GuLkDLNu"
      },
      "execution_count": 58,
      "outputs": []
    },
    {
      "cell_type": "code",
      "source": [
        "print(ridgemodel.score(X_train, y_train), ridgemodel.score(X_test, y_test))"
      ],
      "metadata": {
        "colab": {
          "base_uri": "https://localhost:8080/"
        },
        "id": "4BaSHqbrEfhz",
        "outputId": "a0e2e684-303e-4cf1-ca0f-17f86eadbe46"
      },
      "execution_count": 59,
      "outputs": [
        {
          "output_type": "stream",
          "name": "stdout",
          "text": [
            "0.4625439622495925 0.35695757658096805\n"
          ]
        }
      ]
    },
    {
      "cell_type": "code",
      "source": [
        "from sklearn.linear_model import Lasso\n",
        "lassomodel = Lasso().fit(X_train, y_train)"
      ],
      "metadata": {
        "id": "KdFo5uvkEu68"
      },
      "execution_count": 60,
      "outputs": []
    },
    {
      "cell_type": "code",
      "source": [
        "print(lassomodel.score(X_train, y_train), lassomodel.score(X_test, y_test))"
      ],
      "metadata": {
        "id": "_QKo6phaQr5q",
        "colab": {
          "base_uri": "https://localhost:8080/"
        },
        "outputId": "89d8b6a9-44a0-4804-c290-705da325557f"
      },
      "execution_count": 61,
      "outputs": [
        {
          "output_type": "stream",
          "name": "stdout",
          "text": [
            "0.41412544493966097 0.27817828862078764\n"
          ]
        }
      ]
    },
    {
      "cell_type": "markdown",
      "source": [
        "### Note 4.\n",
        "라쏘는 계수가 0이 될 수 있음  \n",
        "$alpha$값이 커질수록 규제 강화 ($w[i]$가 0에 가까워짐)  \n",
        "보통 리지, 라쏘 중 **리지**를 선호  \n",
        "특성이 많거나 일부만 필요하면 **라쏘**를 선호  "
      ],
      "metadata": {
        "id": "bx8jueI4VEnT"
      }
    },
    {
      "cell_type": "code",
      "source": [
        "print(np.sum(ridgemodel.coef_ != 0), np.sum(lassomodel.coef_ != 0))"
      ],
      "metadata": {
        "colab": {
          "base_uri": "https://localhost:8080/"
        },
        "id": "e9BaT6fjRzke",
        "outputId": "ea0b7d24-bde1-404c-8a34-12aaeabf7735"
      },
      "execution_count": 62,
      "outputs": [
        {
          "output_type": "stream",
          "name": "stdout",
          "text": [
            "10 2\n"
          ]
        }
      ]
    },
    {
      "cell_type": "code",
      "source": [
        "ridgemodel_10 = Ridge(alpha=10).fit(X_train, y_train)\n",
        "ridgemodel_01 = Ridge(alpha=0.1).fit(X_train, y_train)"
      ],
      "metadata": {
        "id": "Me9cp2hYUhWm"
      },
      "execution_count": 65,
      "outputs": []
    },
    {
      "cell_type": "code",
      "source": [
        "plt.plot(ridgemodel_10.coef_, '^', label=\"Ridge alpha=10\")\n",
        "plt.plot(ridgemodel.coef_, 's', label=\"Ridge alpha=1\")\n",
        "plt.plot(ridgemodel_01.coef_, 'v', label=\"Ridge alpha=0.1\")\n",
        "\n",
        "plt.hlines(0, plt.xlim()[0], plt.xlim()[1])\n",
        "plt.ylim(-500,500)\n",
        "\n",
        "plt.legend()"
      ],
      "metadata": {
        "colab": {
          "base_uri": "https://localhost:8080/",
          "height": 282
        },
        "id": "EIEUT1C3V6MW",
        "outputId": "028e57e7-c155-4155-d1a6-f3eb2283bff7"
      },
      "execution_count": 74,
      "outputs": [
        {
          "output_type": "execute_result",
          "data": {
            "text/plain": [
              "<matplotlib.legend.Legend at 0x7fa0825ad550>"
            ]
          },
          "metadata": {},
          "execution_count": 74
        },
        {
          "output_type": "display_data",
          "data": {
            "text/plain": [
              "<Figure size 432x288 with 1 Axes>"
            ],
            "image/png": "[encoded data removed]"
          },
          "metadata": {
            "needs_background": "light"
          }
        }
      ]
    },
    {
      "cell_type": "markdown",
      "source": [
        "## 분류용 선형 모델 (Linear Model for Classification)"
      ],
      "metadata": {
        "id": "lPzWOvsXZDx7"
      }
    },
    {
      "cell_type": "markdown",
      "source": [
        "### Note 1.\n",
        "회귀용 선형 모델에서는 $ \\hat y$  \n",
        "분류용 선형 모델에서는 결정 경계  \n",
        "가 입력의 선형 함수\n",
        "\n",
        "유명한 선형 분류 알고리즘  \n",
        "**로지스틱 회귀 (LogisticRegression)**   \n",
        "**서포트 벡터 머신 (LinearSVC)**  \n",
        "둘 다 L2규제 사용"
      ],
      "metadata": {
        "id": "Ur87psOEZIcb"
      }
    },
    {
      "cell_type": "code",
      "source": [
        "from sklearn.linear_model import LogisticRegression\n",
        "from sklearn.svm import LinearSVC"
      ],
      "metadata": {
        "id": "yVjW31iMZDX-"
      },
      "execution_count": 75,
      "outputs": []
    },
    {
      "cell_type": "markdown",
      "source": [
        "### Note 2.\n",
        "cancer 데이터 이용  \n",
        "Logistic Regression, Linear SVC 기본값 C=1  \n",
        "C가 증가할수록 규제 감소 (alpha와 반대!)"
      ],
      "metadata": {
        "id": "h2eWcOp9cSLu"
      }
    },
    {
      "cell_type": "code",
      "source": [
        "X_train, X_test, y_train, y_test = train_test_split (\n",
        "    cancer.data, cancer.target, random_state = 42\n",
        ")\n",
        "logmodel = LogisticRegression(max_iter=5000).fit(X_train, y_train)"
      ],
      "metadata": {
        "id": "fehIyuCdWVl7"
      },
      "execution_count": 89,
      "outputs": []
    },
    {
      "cell_type": "code",
      "source": [
        "print(logmodel.score(X_train, y_train), logmodel.score(X_test, y_test)) ## 과소적합"
      ],
      "metadata": {
        "colab": {
          "base_uri": "https://localhost:8080/"
        },
        "id": "UYa9EPTVcPDC",
        "outputId": "b5279f1e-a8b1-4600-a95d-b3d455dfec1a"
      },
      "execution_count": 90,
      "outputs": [
        {
          "output_type": "stream",
          "name": "stdout",
          "text": [
            "0.9624413145539906 0.965034965034965\n"
          ]
        }
      ]
    },
    {
      "cell_type": "code",
      "source": [
        "logmodel10 = LogisticRegression(C=10, max_iter=5000).fit(X_train, y_train)\n",
        "logmodel01 = LogisticRegression(C=0.1, max_iter=5000).fit(X_train, y_train)\n",
        "print(logmodel10.score(X_train, y_train), logmodel10.score(X_test, y_test))\n",
        "print(logmodel01.score(X_train, y_train), logmodel01.score(X_test, y_test))"
      ],
      "metadata": {
        "colab": {
          "base_uri": "https://localhost:8080/"
        },
        "id": "zbkZCEd8dQ09",
        "outputId": "28a0255e-706e-4268-ba93-781a64bb9cf1"
      },
      "execution_count": 96,
      "outputs": [
        {
          "output_type": "stream",
          "name": "stdout",
          "text": [
            "0.971830985915493 0.965034965034965\n",
            "0.9460093896713615 0.965034965034965\n"
          ]
        }
      ]
    },
    {
      "cell_type": "code",
      "source": [
        "plt.plot(logmodel10.coef_.T, '^', label=\"Logistic C=10\")\n",
        "plt.plot(logmodel.coef_.T, 's', label=\"Logistic C=1\")\n",
        "plt.plot(logmodel01.coef_.T, 'v', label=\"Logistic C=0.1\")\n",
        "plt.xticks(range(cancer.data.shape[1]), cancer.feature_names, rotation=90)\n",
        "plt.hlines(0, plt.xlim()[0], plt.xlim()[1])\n",
        "plt.ylim(-4,4)\n",
        "\n",
        "plt.legend()"
      ],
      "metadata": {
        "colab": {
          "base_uri": "https://localhost:8080/",
          "height": 395
        },
        "id": "zz6GZZoTeKau",
        "outputId": "7c5d899d-893e-4ec6-8523-07c21680f233"
      },
      "execution_count": 97,
      "outputs": [
        {
          "output_type": "execute_result",
          "data": {
            "text/plain": [
              "<matplotlib.legend.Legend at 0x7fa08270d990>"
            ]
          },
          "metadata": {},
          "execution_count": 97
        },
        {
          "output_type": "display_data",
          "data": {
            "text/plain": [
              "<Figure size 432x288 with 1 Axes>"
            ],
            "image/png": "[encoded data removed]"
          },
          "metadata": {
            "needs_background": "light"
          }
        }
      ]
    },
    {
      "cell_type": "code",
      "source": [
        ""
      ],
      "metadata": {
        "id": "KoOwV3XJebuI"
      },
      "execution_count": null,
      "outputs": []
    }
  ]
}